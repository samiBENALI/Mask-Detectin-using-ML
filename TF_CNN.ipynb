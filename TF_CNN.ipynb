{
  "nbformat": 4,
  "nbformat_minor": 0,
  "metadata": {
    "colab": {
      "name": "TF_CNN.ipynb",
      "provenance": []
    },
    "kernelspec": {
      "name": "python3",
      "display_name": "Python 3"
    }
  },
  "cells": [
    {
      "cell_type": "code",
      "metadata": {
        "colab": {
          "base_uri": "https://localhost:8080/"
        },
        "id": "txhRR6OST_xK",
        "outputId": "a3928371-fa8f-41e7-bdcf-6512ac24d082"
      },
      "source": [
        "%tensorflow_version 1.x\r\n",
        "\r\n",
        "\r\n",
        "from google.colab import drive \r\n"
      ],
      "execution_count": 1,
      "outputs": [
        {
          "output_type": "stream",
          "text": [
            "TensorFlow 1.x selected.\n"
          ],
          "name": "stdout"
        }
      ]
    },
    {
      "cell_type": "code",
      "metadata": {
        "colab": {
          "base_uri": "https://localhost:8080/"
        },
        "id": "hAdbQx2uUFx_",
        "outputId": "f159035d-1585-4285-da92-05a98bedd9f0"
      },
      "source": [
        "drive.mount('/content/drive/')"
      ],
      "execution_count": 2,
      "outputs": [
        {
          "output_type": "stream",
          "text": [
            "Mounted at /content/drive/\n"
          ],
          "name": "stdout"
        }
      ]
    },
    {
      "cell_type": "code",
      "metadata": {
        "id": "wSyxlaZTUVXh"
      },
      "source": [
        "import math\r\n",
        "import numpy as np\r\n",
        "import h5py\r\n",
        "import matplotlib.pyplot as plt\r\n",
        "\r\n",
        "import os\r\n",
        "from PIL import Image\r\n",
        "import tensorflow as tf\r\n",
        "from tensorflow.python.framework import ops\r\n",
        "\r\n",
        "ROWS = 64\r\n",
        "COLS = 64\r\n",
        "CHANNELS = 3\r\n",
        "CLASSES = 2"
      ],
      "execution_count": 12,
      "outputs": []
    },
    {
      "cell_type": "code",
      "metadata": {
        "id": "1JA1FX7lUcFH"
      },
      "source": [
        "DIRECTORY = r\"/content/drive/MyDrive/dataset\"\r\n",
        "CATEGORIES = [\"with_mask\", \"without_mask\"]"
      ],
      "execution_count": 4,
      "outputs": []
    },
    {
      "cell_type": "code",
      "metadata": {
        "id": "ZZ0rQWbLUdRw"
      },
      "source": [
        "\r\n",
        "def load_dataset():\r\n",
        "    x_list=[]\r\n",
        "    y_list=[]\r\n",
        "    class_list=[]\r\n",
        "    path1 = os.path.join(DIRECTORY,CATEGORIES[0])\r\n",
        "    path2 = os.path.join(DIRECTORY,CATEGORIES[1])\r\n",
        "    list1=os.listdir(path1)\r\n",
        "    list2=os.listdir(path2)\r\n",
        "    for img1,img2 in zip(list1,list2):\r\n",
        "        img_path1 = os.path.join(path1, img1)\r\n",
        "        image1=Image.open(img_path1)\r\n",
        "        image1 = image1.resize((64,64))\r\n",
        "        image1 =np.array( image1)\r\n",
        "        img_path2 = os.path.join(path2, img2)\r\n",
        "        image2 = Image.open(img_path2)\r\n",
        "        image2 = image2.resize((64, 64))\r\n",
        "        image2 = np.array(image2)\r\n",
        "        x_list.append(image1)\r\n",
        "        x_list.append(image2)\r\n",
        "        y_list.append([1])\r\n",
        "        y_list.append([0])\r\n",
        "        class_list.append(CATEGORIES[0])\r\n",
        "        class_list.append(CATEGORIES[1])\r\n",
        "        if ( len (x_list) > 249):    #to limit the number ( crappy PC)\r\n",
        "            return (x_list,y_list,class_list)"
      ],
      "execution_count": 5,
      "outputs": []
    },
    {
      "cell_type": "code",
      "metadata": {
        "id": "VAEYhyq6UhEX"
      },
      "source": [
        "def data_flat_split():\r\n",
        "    x_list, y_list, class_list = load_dataset()\r\n",
        "\r\n",
        "    print(len(x_list), \" --\", len(y_list), \"----\", len(class_list))\r\n",
        "\r\n",
        "    print(x_list[0].shape)\r\n",
        "    print(x_list[1].shape)\r\n",
        "    print(x_list[100].shape)\r\n",
        "    train_set_x_orig= np.array(x_list[0:209])\r\n",
        "    train_set_y = np.array(y_list[0:209]).T\r\n",
        "    train_classes=np.array(class_list[0:209])\r\n",
        "    test_set_x_orig = np.array( x_list[209:])\r\n",
        "    test_set_y = np.array(y_list[209:]).T\r\n",
        "    test_classes = np.array(class_list[209:])\r\n",
        "\r\n",
        "    train_set_x_flatten = train_set_x_orig/255.\r\n",
        "    test_set_x_flatten = test_set_x_orig/255.\r\n",
        "    train_set_y = convert_to_one_hot(train_set_y, 2).T\r\n",
        "    test_set_y = convert_to_one_hot(test_set_y, 2).T\r\n",
        "    return (train_set_x_flatten,test_set_x_flatten,train_set_y,test_set_y,train_classes,test_classes)"
      ],
      "execution_count": 6,
      "outputs": []
    },
    {
      "cell_type": "code",
      "metadata": {
        "id": "ZUlDy7gT9XHj"
      },
      "source": [
        "def convert_to_one_hot(Y, C):\r\n",
        "    Y = np.eye(C)[Y.reshape(-1)].T\r\n",
        "    return Y\r\n",
        "    "
      ],
      "execution_count": 8,
      "outputs": []
    },
    {
      "cell_type": "code",
      "metadata": {
        "colab": {
          "base_uri": "https://localhost:8080/"
        },
        "id": "FcGMRZbjV7oy",
        "outputId": "5f4c5615-e3fa-425b-fa8e-e93041d52da1"
      },
      "source": [
        "train_set_x_flatten,test_set_x_flatten,train_set_y,test_set_y,train_classes,test_classes=data_flat_split()\r\n",
        "\r\n",
        "print ( train_set_x_flatten.shape,\"---\",train_set_y.shape)"
      ],
      "execution_count": 9,
      "outputs": [
        {
          "output_type": "stream",
          "text": [
            "250  -- 250 ---- 250\n",
            "(64, 64, 3)\n",
            "(64, 64, 3)\n",
            "(64, 64, 3)\n",
            "(209, 64, 64, 3) --- (209, 2)\n"
          ],
          "name": "stdout"
        }
      ]
    },
    {
      "cell_type": "markdown",
      "metadata": {
        "id": "smuZTbvOVq4R"
      },
      "source": [
        "1 - Create placeholders:\r\n",
        "TensorFlow requires that we create placeholders for the input data that will be fed into the model when running the session.\r\n",
        "\r\n",
        "We will implement the function below to create placeholders for the input image X and the output Y. We should not define the number of training examples for the moment. To do so, we could use \"None\" as the batch size, it will give us the flexibility to choose it later.\r\n",
        "\r\n",
        "Arguments:\r\n",
        "n_H0 - scalar, height of an input image\r\n",
        "n_W0 - scalar, width of an input image\r\n",
        "n_C0 - scalar, number of channels of the input\r\n",
        "n_y - scalar, number of classes\r\n",
        "\r\n",
        "Returns:\r\n",
        "X - placeholder for the data input, of shape [None, n_H0, n_W0, n_C0] and dtype \"float\"\r\n",
        "Y - placeholder for the input labels, of shape [None, n_y] and dtype \"float\""
      ]
    },
    {
      "cell_type": "code",
      "metadata": {
        "id": "yxMTpUPlVsbX"
      },
      "source": [
        "def create_placeholders(n_H0, n_W0, n_C0, n_y):\r\n",
        "\r\n",
        "    X = tf.placeholder(tf.float32, shape=(None, n_H0, n_W0, n_C0), name=\"X\")\r\n",
        "    Y = tf.placeholder(tf.float32, shape=(None, n_y), name=\"Y\")\r\n",
        "    \r\n",
        "    return X, Y"
      ],
      "execution_count": 10,
      "outputs": []
    },
    {
      "cell_type": "code",
      "metadata": {
        "colab": {
          "base_uri": "https://localhost:8080/"
        },
        "id": "wzQJlnyGWWFR",
        "outputId": "c745b686-4c7e-441e-add2-32e6d1a154f1"
      },
      "source": [
        "X, Y = create_placeholders(ROWS, COLS, CHANNELS, CLASSES)\r\n",
        "print (\"X = \", X)\r\n",
        "print (\"Y = \", Y)"
      ],
      "execution_count": 13,
      "outputs": [
        {
          "output_type": "stream",
          "text": [
            "X =  Tensor(\"X:0\", shape=(?, 64, 64, 3), dtype=float32)\n",
            "Y =  Tensor(\"Y:0\", shape=(?, 2), dtype=float32)\n"
          ],
          "name": "stdout"
        }
      ]
    },
    {
      "cell_type": "markdown",
      "metadata": {
        "id": "APM9rln9WrTO"
      },
      "source": [
        "2 - Initialize parameters:\r\n",
        "We will initialize weights/filters W1 and W2 using `tf.contrib.layers.xavier_initializer()`. We don't need to worry about bias variables as we will soon see that TensorFlow functions take care of the bias. Note also that we will only initialize the weights/filters for the conv2d functions. TensorFlow initializes the layers for the fully connected part automatically. We will talk more about that later.\r\n",
        "\r\n",
        "The dimensions for each group of filters will be: [weight, height, channels, filters]"
      ]
    },
    {
      "cell_type": "code",
      "metadata": {
        "id": "0anKgTePWtHB"
      },
      "source": [
        "def initialize_parameters():\r\n",
        "    \r\n",
        "    W1 = tf.get_variable(\"W1\", [4, 4, 3, 32], initializer = tf.contrib.layers.xavier_initializer())\r\n",
        "    W2 = tf.get_variable(\"W2\", [2, 2, 32, 32], initializer = tf.contrib.layers.xavier_initializer())\r\n",
        "\r\n",
        "    parameters = {\"W1\": W1,\r\n",
        "                  \"W2\": W2}\r\n",
        "   \r\n",
        "    return parameters"
      ],
      "execution_count": 14,
      "outputs": []
    },
    {
      "cell_type": "code",
      "metadata": {
        "colab": {
          "base_uri": "https://localhost:8080/"
        },
        "id": "tkmujDOvWwYJ",
        "outputId": "c8bddae5-0b78-4ef6-c35a-fa7056963da6"
      },
      "source": [
        "tf.reset_default_graph()\r\n",
        "with tf.Session() as sess_test:\r\n",
        "    parameters = initialize_parameters()\r\n",
        "    init = tf.global_variables_initializer()\r\n",
        "    sess_test.run(init)\r\n",
        "    print(\"W1 = \", parameters[\"W1\"].eval()[1,1,1])\r\n",
        "    print(\"W2 = \", parameters[\"W2\"].eval()[1,1,1])"
      ],
      "execution_count": 15,
      "outputs": [
        {
          "output_type": "stream",
          "text": [
            "WARNING:tensorflow:\n",
            "The TensorFlow contrib module will not be included in TensorFlow 2.0.\n",
            "For more information, please see:\n",
            "  * https://github.com/tensorflow/community/blob/master/rfcs/20180907-contrib-sunset.md\n",
            "  * https://github.com/tensorflow/addons\n",
            "  * https://github.com/tensorflow/io (for I/O related ops)\n",
            "If you depend on functionality not listed there, please file an issue.\n",
            "\n",
            "W1 =  [ 0.09911936 -0.00657279 -0.07778946  0.05373583 -0.04751974  0.07503689\n",
            "  0.09002561  0.06733937 -0.07250324 -0.02404843  0.01756416  0.08964258\n",
            " -0.06111021 -0.05347591  0.03678826 -0.02638231  0.00306334 -0.07827133\n",
            " -0.05164623 -0.06578716 -0.0848368   0.06240561  0.03164112 -0.09040479\n",
            " -0.06059045 -0.02168537  0.09327344  0.01673841  0.04175929  0.10324468\n",
            "  0.005458    0.02030531]\n",
            "W2 =  [-0.0120503   0.09888016  0.0531057   0.11054365 -0.0435883   0.06123522\n",
            " -0.11715537  0.09991591  0.10421185  0.00848007  0.0094102  -0.10568817\n",
            "  0.00545818 -0.13570689  0.05529535  0.14507137 -0.10096008  0.05358538\n",
            "  0.01741806 -0.10569875  0.09500381 -0.12070802 -0.14442241  0.07985418\n",
            " -0.03046522 -0.05382323  0.0068592  -0.10344797  0.13940342 -0.00264835\n",
            " -0.09337752  0.0056217 ]\n"
          ],
          "name": "stdout"
        }
      ]
    },
    {
      "cell_type": "markdown",
      "metadata": {
        "id": "k7to2j5WW1eA"
      },
      "source": [
        "3 - Forward propagation:\r\n",
        "In TensorFlow, there are built-in functions that carry out the convolution steps for us.\r\n",
        "\r\n",
        "tf.nn.conv2d(X,W1, strides = [1,s,s,1], padding = 'SAME'): given an input X and a group of filters W1, this function convolves W1's filters on X. The third input ([1,f,f,1]) represents the strides for each dimension of the input (m, n_H_prev, n_W_prev, n_C_prev).\r\n",
        "tf.nn.max_pool(A, ksize = [1,f,f,1], strides = [1,s,s,1], padding = 'SAME'): given an input A, this function uses a window of size (f, f) and strides of size (s, s) to carry out max pooling over each window.\r\n",
        "tf.nn.relu(Z1): computes the elementwise ReLU of Z1 (which can be any shape).\r\n",
        "tf.contrib.layers.flatten(P): given an input P, this function flattens each example into a 1D vector it while maintaining the batch-size. It returns a flattened tensor with shape [batch_size, k].\r\n",
        "tf.contrib.layers.fully_connected(F, num_outputs): given a the flattened input F, it returns the output computed using a fully connected layer.\r\n",
        "\r\n",
        "In the last function above (tf.contrib.layers.fully_connected), the fully connected layer automatically initializes weights in the graph and keeps on training them as we train the model. We don't need to initialize those weights when initializing the parameters.\r\n",
        "\r\n",
        "So we will implement the forward_propagation function below to build the following model: CONV2D -> RELU -> MAXPOOL -> CONV2D -> RELU -> MAXPOOL -> FLATTEN -> FULLYCONNECTED.\r\n",
        "\r\n",
        "\r\n",
        " \r\n",
        "In detail, we will use the following parameters for all the steps: - Conv2D: stride 1, padding is \"SAME\"\r\n",
        "- ReLU\r\n",
        "- Max pool: Use an 8 by 8 filter size and an 8 by 8 stride, padding is \"SAME\"\r\n",
        "- Conv2D: stride 1, padding is \"SAME\"\r\n",
        "- ReLU\r\n",
        "- Max pool: Use a 4 by 4 filter size and a 4 by 4 stride, padding is \"SAME\"\r\n",
        "- Flatten the previous output.\r\n",
        "- FULLYCONNECTED (FC) layer: We'll apply fully connected layer without an non-linear activation function. We will not call the softmax here. This will result in 2 neurons in the output layer, which then get passed later to a softmax. In TensorFlow, the softmax and cost function are lumped together into a single function, which you'll call in a different function when computing the cost."
      ]
    },
    {
      "cell_type": "markdown",
      "metadata": {
        "id": "OjhyEGiRXQep"
      },
      "source": [
        "Arguments:\r\n",
        "X - input dataset placeholder, of shape (input size, number of examples)\r\n",
        "parameters - python dictionary containing our parameters \"W1\", \"W2\"\r\n",
        "\r\n",
        "Returns:\r\n",
        "Z3 - the output of the last LINEAR unit"
      ]
    },
    {
      "cell_type": "code",
      "metadata": {
        "id": "4pCMy9sPXReK"
      },
      "source": [
        "def forward_propagation(X, parameters):\r\n",
        "    # Retrieving the parameters from the dictionary \"parameters\" \r\n",
        "    W1 = parameters['W1']\r\n",
        "    W2 = parameters['W2']\r\n",
        "    \r\n",
        "    # CONV2D: stride of 1, padding 'SAME'\r\n",
        "    Z1 = tf.nn.conv2d(X,W1, strides = [1,1,1,1], padding = 'SAME')\r\n",
        "    print(\"Z1 shape\", Z1.shape)\r\n",
        "    \r\n",
        "    # RELU\r\n",
        "    A1 = tf.nn.relu(Z1)\r\n",
        "    print(\"A1 shape\", A1.shape)\r\n",
        "    \r\n",
        "    # MAXPOOL: window 8x8, sride 8, padding 'SAME'\r\n",
        "    P1 = tf.nn.max_pool(A1, ksize = [1,8,8,1], strides = [1,8,8,1], padding = 'SAME')\r\n",
        "    print(\"P1 shape\", P1.shape)\r\n",
        "    \r\n",
        "    # CONV2D: filters W2, stride 1, padding 'SAME'\r\n",
        "    Z2 = tf.nn.conv2d(P1,W2, strides = [1,1,1,1], padding = 'SAME')\r\n",
        "    print(\"Z2 shape\", Z2.shape)\r\n",
        "    \r\n",
        "    # RELU\r\n",
        "    A2 = tf.nn.relu(Z2)\r\n",
        "    print(\"A2 shape\", A2.shape)\r\n",
        "    \r\n",
        "    # MAXPOOL: window 4x4, stride 4, padding 'SAME'\r\n",
        "    P2 = tf.nn.max_pool(A2, ksize = [1,4,4,1], strides = [1,4,4,1], padding = 'SAME')\r\n",
        "    print(\"P2 shape\", P2.shape)\r\n",
        "    \r\n",
        "    # FLATTEN\r\n",
        "    P2 = tf.contrib.layers.flatten(P2)\r\n",
        "    print(\"P2 FLATTEN shape\", P2.shape)\r\n",
        "    \r\n",
        "    # FULLY-CONNECTED without non-linear activation function (not call softmax).\r\n",
        "    # 2 neurons in output layer. Hint: one of the arguments should be \"activation_fn=None\" \r\n",
        "    Z3 = tf.contrib.layers.fully_connected(P2, CLASSES, activation_fn=None)\r\n",
        "    print(\"Z3 shape\", Z3.shape)\r\n",
        "\r\n",
        "    return Z3"
      ],
      "execution_count": 17,
      "outputs": []
    },
    {
      "cell_type": "code",
      "metadata": {
        "colab": {
          "base_uri": "https://localhost:8080/"
        },
        "id": "K5NPLNltXY8Q",
        "outputId": "0895746b-bd1a-4042-e538-2b5eef81b5c8"
      },
      "source": [
        "tf.reset_default_graph()\r\n",
        "with tf.Session() as sess:\r\n",
        "    X, Y = create_placeholders(ROWS, COLS, CHANNELS, CLASSES)\r\n",
        "    parameters = initialize_parameters()\r\n",
        "    Z3 = forward_propagation(X, parameters)\r\n",
        "    init = tf.global_variables_initializer()\r\n",
        "    sess.run(init)\r\n",
        "    a = sess.run(Z3, {X: np.random.randn(2,64,64,3), Y: np.random.randn(2,CLASSES)})\r\n",
        "    print(\"Z3 =\", a)\r\n",
        "    print(\"Z3 shape =\", a.shape)"
      ],
      "execution_count": 18,
      "outputs": [
        {
          "output_type": "stream",
          "text": [
            "Z1 shape (?, 64, 64, 32)\n",
            "A1 shape (?, 64, 64, 32)\n",
            "P1 shape (?, 8, 8, 32)\n",
            "Z2 shape (?, 8, 8, 32)\n",
            "A2 shape (?, 8, 8, 32)\n",
            "P2 shape (?, 2, 2, 32)\n",
            "WARNING:tensorflow:From /tensorflow-1.15.2/python3.7/tensorflow_core/contrib/layers/python/layers/layers.py:1634: flatten (from tensorflow.python.layers.core) is deprecated and will be removed in a future version.\n",
            "Instructions for updating:\n",
            "Use keras.layers.flatten instead.\n",
            "WARNING:tensorflow:From /tensorflow-1.15.2/python3.7/tensorflow_core/python/layers/core.py:332: Layer.apply (from tensorflow.python.keras.engine.base_layer) is deprecated and will be removed in a future version.\n",
            "Instructions for updating:\n",
            "Please use `layer.__call__` method instead.\n",
            "P2 FLATTEN shape (?, 128)\n",
            "Z3 shape (?, 2)\n",
            "Z3 = [[-0.6550324   1.4974239 ]\n",
            " [-0.37945104  1.4550192 ]]\n",
            "Z3 shape = (2, 2)\n"
          ],
          "name": "stdout"
        }
      ]
    },
    {
      "cell_type": "markdown",
      "metadata": {
        "id": "pwGsa-MMXe-Y"
      },
      "source": [
        "4 - Compute cost:\r\n",
        "In TensorFlow, there are built-in functions that carry out the convolution steps for us.\r\n",
        "\r\n",
        "tf.nn.softmax_cross_entropy_with_logits(logits = Z3, labels = Y): computes the softmax entropy loss. This function both computes the softmax activation function as well as the resulting loss.\r\n",
        "tf.reduce_mean: computes the mean of elements across dimensions of a tensor. Use this to sum the losses over all the examples to get the overall cost.\r\n",
        "\r\n",
        "Arguments:\r\n",
        "Z3 - output of forward propagation (output of the last LINEAR unit), of shape (CLASSES, number of examples)\r\n",
        "Y - \"true\" labels vector placeholder, same shape as Z3\r\n",
        "\r\n",
        "Returns:\r\n",
        "cost - Tensor of the cost function"
      ]
    },
    {
      "cell_type": "code",
      "metadata": {
        "id": "JmGgCfgaXf2q"
      },
      "source": [
        "def compute_cost(Z3, Y):\r\n",
        "\r\n",
        "    cost = tf.reduce_mean(tf.nn.softmax_cross_entropy_with_logits(logits = Z3, labels = Y))\r\n",
        "    \r\n",
        "    return cost"
      ],
      "execution_count": 19,
      "outputs": []
    },
    {
      "cell_type": "code",
      "metadata": {
        "colab": {
          "base_uri": "https://localhost:8080/"
        },
        "id": "5pPiiKjiXjqx",
        "outputId": "bdb19f32-6597-4c92-f911-c38bbfe51eeb"
      },
      "source": [
        "tf.reset_default_graph()\r\n",
        "with tf.Session() as sess:\r\n",
        "    X, Y = create_placeholders(ROWS, COLS, CHANNELS, CLASSES)\r\n",
        "    parameters = initialize_parameters()\r\n",
        "    Z3 = forward_propagation(X, parameters)\r\n",
        "    cost = compute_cost(Z3, Y)\r\n",
        "    init = tf.global_variables_initializer()\r\n",
        "    sess.run(init)\r\n",
        "    a = sess.run(cost, {X: np.random.randn(4,64,64,3), Y: np.random.randn(4,CLASSES)})\r\n",
        "    print(\"cost = \", a)"
      ],
      "execution_count": 20,
      "outputs": [
        {
          "output_type": "stream",
          "text": [
            "Z1 shape (?, 64, 64, 32)\n",
            "A1 shape (?, 64, 64, 32)\n",
            "P1 shape (?, 8, 8, 32)\n",
            "Z2 shape (?, 8, 8, 32)\n",
            "A2 shape (?, 8, 8, 32)\n",
            "P2 shape (?, 2, 2, 32)\n",
            "P2 FLATTEN shape (?, 128)\n",
            "Z3 shape (?, 2)\n",
            "WARNING:tensorflow:From <ipython-input-19-9536e41bcf0d>:3: softmax_cross_entropy_with_logits (from tensorflow.python.ops.nn_ops) is deprecated and will be removed in a future version.\n",
            "Instructions for updating:\n",
            "\n",
            "Future major versions of TensorFlow will allow gradients to flow\n",
            "into the labels input on backprop by default.\n",
            "\n",
            "See `tf.nn.softmax_cross_entropy_with_logits_v2`.\n",
            "\n",
            "cost =  0.5756288\n"
          ],
          "name": "stdout"
        }
      ]
    },
    {
      "cell_type": "markdown",
      "metadata": {
        "id": "OKmQwXgLXq7h"
      },
      "source": [
        "5 - Mini-Batch Gradient descent:\r\n",
        "I copied mini-batches function from my last Deep Network TensorFlow tutorial, and adopted it to new data-set shape:\r\n",
        "\r\n",
        "Arguments:\r\n",
        "X - input data, of shape (input size, number of examples) (m, Hi, Wi, Ci)\r\n",
        "Y - true \"label\" vector (containing 0 if masked, 1 if dnot), of shape (1, number of examples) (m, n_y)\r\n",
        "mini_batch_size - size of the mini-batches, integer\r\n",
        "\r\n",
        "Returns:\r\n",
        "mini_batches - list of synchronous (mini_batch_X, mini_batch_Y)"
      ]
    },
    {
      "cell_type": "code",
      "metadata": {
        "id": "AfZjlZ-9XsJA"
      },
      "source": [
        "def random_mini_batches(X, Y, mini_batch_size = 64):\r\n",
        "    # number of training examples\r\n",
        "    m = X.shape[0]                  \r\n",
        "    mini_batches = []\r\n",
        "    \r\n",
        "    # Step 1: Shuffle (X, Y)\r\n",
        "    permutation = list(np.random.permutation(m))\r\n",
        "    shuffled_X = X[permutation,:,:,:]\r\n",
        "    shuffled_Y = Y[permutation,:]\r\n",
        "\r\n",
        "    # Step 2: Partition (shuffled_X, shuffled_Y). Minus the end case.\r\n",
        "    num_complete_minibatches = math.floor(m/mini_batch_size) # number of mini batches of size mini_batch_size in your partitionning\r\n",
        "    for k in range(0, num_complete_minibatches):\r\n",
        "        mini_batch_X = shuffled_X[k * mini_batch_size : k * mini_batch_size + mini_batch_size,:,:,:]\r\n",
        "        mini_batch_Y = shuffled_Y[k * mini_batch_size : k * mini_batch_size + mini_batch_size,:]\r\n",
        "        mini_batch = (mini_batch_X, mini_batch_Y)\r\n",
        "        mini_batches.append(mini_batch)\r\n",
        "    \r\n",
        "    # Handling the end case (last mini-batch < mini_batch_size)\r\n",
        "    if m % mini_batch_size != 0:\r\n",
        "        mini_batch_X = shuffled_X[num_complete_minibatches * mini_batch_size : m,:,:,:]\r\n",
        "        mini_batch_Y = shuffled_Y[num_complete_minibatches * mini_batch_size : m,:]\r\n",
        "        mini_batch = (mini_batch_X, mini_batch_Y)\r\n",
        "        mini_batches.append(mini_batch)\r\n",
        "    \r\n",
        "    return mini_batches"
      ],
      "execution_count": 21,
      "outputs": []
    },
    {
      "cell_type": "markdown",
      "metadata": {
        "id": "WhP2sDphXvUp"
      },
      "source": [
        "6 - Model:\r\n",
        "Finally we will merge the helper functions we implemented above to build a model. We will train it on my masks data-set.\r\n",
        "\r\n",
        "The model below should:\r\n",
        "\r\n",
        "create placeholders\r\n",
        "initialize parameters\r\n",
        "forward propagate\r\n",
        "compute the cost\r\n",
        "create an optimizer\r\n",
        "\r\n",
        "Finally we will create a session and run a for loop for num_epochs, get the mini-batches, and then for each mini-batch we will optimize the function.\r\n",
        "\r\n",
        "So we'll implement a three-layer ConvNet in Tensorflow: CONV2D -> RELU -> MAXPOOL -> CONV2D -> RELU -> MAXPOOL -> FLATTEN -> FULLYCONNECTED.\r\n",
        "\r\n",
        "Arguments:\r\n",
        "X_train - training set, of shape (None, ROWS, COLS, CHANNELS)\r\n",
        "Y_train - test set, of shape (None, n_y = CLASSES)\r\n",
        "X_test - training set, of shape (None, ROWS, COLS, CHANNELS)\r\n",
        "Y_test - test set, of shape (None, n_y = CLASSES)\r\n",
        "learning_rate - learning rate of the optimization\r\n",
        "num_epochs - number of epochs of the optimization loop\r\n",
        "minibatch_size - size of a minibatch\r\n",
        "print_cost - True to print the cost every 100 epochs\r\n",
        "\r\n",
        "Returns:\r\n",
        "train_accuracy - real number, accuracy on the train set (X_train)\r\n",
        "test_accuracy - real number, testing accuracy on the test set (X_test)\r\n",
        "parameters - parameters learnt by the model. They can then be used to predict."
      ]
    },
    {
      "cell_type": "code",
      "metadata": {
        "id": "a82EbBmvXzRB"
      },
      "source": [
        "tf.reset_default_graph()\r\n",
        "def model(X_train, Y_train, X_test, Y_test, learning_rate = 0.009,\r\n",
        "          num_epochs = 200, minibatch_size = 64, print_cost = True):\r\n",
        "\r\n",
        "    (m, n_H0, n_W0, n_C0) = X_train.shape             \r\n",
        "    n_y = Y_train.shape[1] \r\n",
        "    \r\n",
        "    # To keep track of the cost\r\n",
        "    costs = []                                        \r\n",
        "    \r\n",
        "    # Createing Placeholders of the correct shape\r\n",
        "    X, Y = create_placeholders(n_H0, n_W0, n_C0, n_y)\r\n",
        "\r\n",
        "    # Initializing parameters\r\n",
        "    parameters = initialize_parameters()\r\n",
        "    \r\n",
        "    # Forward propagation: Building the forward propagation in the tensorflow graph\r\n",
        "    Z3 = forward_propagation(X, parameters)\r\n",
        "    \r\n",
        "    # Cost function: Adding cost function to tensorflow graph\r\n",
        "    cost = compute_cost(Z3, Y)\r\n",
        "    \r\n",
        "    # Backpropagation: Defining the tensorflow optimizer. Using an AdamOptimizer that minimizes the cost.\r\n",
        "    optimizer = tf.train.AdamOptimizer(learning_rate = learning_rate).minimize(cost)\r\n",
        "    \r\n",
        "    # Initializing all the variables globally\r\n",
        "    init = tf.global_variables_initializer()\r\n",
        "     \r\n",
        "    # Starting the session to compute the tensorflow graph\r\n",
        "    with tf.Session() as sess:\r\n",
        "        \r\n",
        "        # Runing the initialization\r\n",
        "        sess.run(init)\r\n",
        "        \r\n",
        "        # Doing the training loop\r\n",
        "        for epoch in range(num_epochs):\r\n",
        "\r\n",
        "            minibatch_cost = 0.\r\n",
        "            # number of minibatches of size minibatch_size in the train set\r\n",
        "            num_minibatches = int(m / minibatch_size)\r\n",
        "            minibatches = random_mini_batches(X_train, Y_train, minibatch_size)\r\n",
        "\r\n",
        "            for minibatch in minibatches:\r\n",
        "\r\n",
        "                # Select a minibatch\r\n",
        "                (minibatch_X, minibatch_Y) = minibatch\r\n",
        "                # IMPORTANT: The line that runs the graph on a minibatch.\r\n",
        "                # Run the session to execute the optimizer and the cost, the feedict should contain a minibatch for (X,Y).\r\n",
        "                _ , temp_cost = sess.run([optimizer, cost], feed_dict={X: minibatch_X, Y: minibatch_Y})\r\n",
        "                \r\n",
        "                minibatch_cost += temp_cost / num_minibatches\r\n",
        "                \r\n",
        "\r\n",
        "            # Print the cost every epoch\r\n",
        "            if print_cost == True and epoch % 5 == 0:\r\n",
        "                print (\"Cost after epoch %i: %f\" % (epoch, minibatch_cost))\r\n",
        "            if print_cost == True and epoch % 1 == 0:\r\n",
        "                costs.append(minibatch_cost)\r\n",
        "        \r\n",
        "        \r\n",
        "        # plot the cost\r\n",
        "        plt.plot(np.squeeze(costs))\r\n",
        "        plt.ylabel('cost')\r\n",
        "        plt.xlabel('iterations (per tens)')\r\n",
        "        plt.title(\"Learning rate =\" + str(learning_rate))\r\n",
        "        plt.show()\r\n",
        "        \r\n",
        "        # lets save the parameters in a variable\r\n",
        "        parameters = sess.run(parameters)\r\n",
        "        print (\"Parameters have been trained!\")     \r\n",
        "        \r\n",
        "        # Calculate the correct predictions\r\n",
        "        predict_op = tf.argmax(Z3, 1)\r\n",
        "        correct_prediction = tf.equal(predict_op, tf.argmax(Y, 1))\r\n",
        "        \r\n",
        "        # Calculate accuracy on the test set\r\n",
        "        accuracy = tf.reduce_mean(tf.cast(correct_prediction, \"float\"))\r\n",
        "        train_accuracy = accuracy.eval({X: X_train, Y: Y_train})\r\n",
        "        test_accuracy = accuracy.eval({X: X_test, Y: Y_test})\r\n",
        "        print(\"Train Accuracy:\", train_accuracy)\r\n",
        "        print(\"Test Accuracy:\", test_accuracy)\r\n",
        "        \r\n",
        "        # Saving our trained model\r\n",
        "        saver = tf.train.Saver()\r\n",
        "        tf.add_to_collection('predict_op', predict_op)\r\n",
        "        saver.save(sess, './my-CNN-model')        \r\n",
        "                \r\n",
        "        return train_accuracy, test_accuracy, parameters"
      ],
      "execution_count": 22,
      "outputs": []
    },
    {
      "cell_type": "code",
      "metadata": {
        "colab": {
          "base_uri": "https://localhost:8080/",
          "height": 1000
        },
        "id": "B6yKHp2PX3_S",
        "outputId": "01401243-4ebc-494e-ff24-29ccc0f41485"
      },
      "source": [
        "_, _, parameters = model(train_set_x_flatten, train_set_y,test_set_x_flatten,test_set_y)"
      ],
      "execution_count": 23,
      "outputs": [
        {
          "output_type": "stream",
          "text": [
            "Z1 shape (?, 64, 64, 32)\n",
            "A1 shape (?, 64, 64, 32)\n",
            "P1 shape (?, 8, 8, 32)\n",
            "Z2 shape (?, 8, 8, 32)\n",
            "A2 shape (?, 8, 8, 32)\n",
            "P2 shape (?, 2, 2, 32)\n",
            "P2 FLATTEN shape (?, 128)\n",
            "Z3 shape (?, 2)\n",
            "Cost after epoch 0: 1.090170\n",
            "Cost after epoch 5: 0.910301\n",
            "Cost after epoch 10: 0.779835\n",
            "Cost after epoch 15: 0.450450\n",
            "Cost after epoch 20: 0.203999\n",
            "Cost after epoch 25: 0.157514\n",
            "Cost after epoch 30: 0.099863\n",
            "Cost after epoch 35: 0.079657\n",
            "Cost after epoch 40: 0.058011\n",
            "Cost after epoch 45: 0.044009\n",
            "Cost after epoch 50: 0.039821\n",
            "Cost after epoch 55: 0.026994\n",
            "Cost after epoch 60: 0.014982\n",
            "Cost after epoch 65: 0.010515\n",
            "Cost after epoch 70: 0.008105\n",
            "Cost after epoch 75: 0.008017\n",
            "Cost after epoch 80: 0.004877\n",
            "Cost after epoch 85: 0.003882\n",
            "Cost after epoch 90: 0.003843\n",
            "Cost after epoch 95: 0.002650\n",
            "Cost after epoch 100: 0.002306\n",
            "Cost after epoch 105: 0.001937\n",
            "Cost after epoch 110: 0.001759\n",
            "Cost after epoch 115: 0.001779\n",
            "Cost after epoch 120: 0.001406\n",
            "Cost after epoch 125: 0.001318\n",
            "Cost after epoch 130: 0.001200\n",
            "Cost after epoch 135: 0.001135\n",
            "Cost after epoch 140: 0.000935\n",
            "Cost after epoch 145: 0.001042\n",
            "Cost after epoch 150: 0.000706\n",
            "Cost after epoch 155: 0.000817\n",
            "Cost after epoch 160: 0.000637\n",
            "Cost after epoch 165: 0.000640\n",
            "Cost after epoch 170: 0.000696\n",
            "Cost after epoch 175: 0.000528\n",
            "Cost after epoch 180: 0.000475\n",
            "Cost after epoch 185: 0.000495\n",
            "Cost after epoch 190: 0.000450\n",
            "Cost after epoch 195: 0.000383\n"
          ],
          "name": "stdout"
        },
        {
          "output_type": "display_data",
          "data": {
            "image/png": "[encoded data removed]",
            "text/plain": [
              "<Figure size 432x288 with 1 Axes>"
            ]
          },
          "metadata": {
            "tags": [],
            "needs_background": "light"
          }
        },
        {
          "output_type": "stream",
          "text": [
            "Parameters have been trained!\n",
            "Train Accuracy: 1.0\n",
            "Test Accuracy: 1.0\n"
          ],
          "name": "stdout"
        }
      ]
    },
    {
      "cell_type": "markdown",
      "metadata": {
        "id": "MszZUgIkYqpq"
      },
      "source": [
        "7 - Test with your own image:\r\n",
        "When we save the variables, it creates a .meta file. This file contains the graph structure. Therefore, we can import the meta graph using tf.train.import_meta_graph() and restore the values of the graph. Let's import the graph and see all tensors in the graph:"
      ]
    },
    {
      "cell_type": "code",
      "metadata": {
        "colab": {
          "base_uri": "https://localhost:8080/"
        },
        "id": "wbGxtL5CYtup",
        "outputId": "38afbfe2-d9fb-4148-b668-b5a5d3f3524f"
      },
      "source": [
        "# delete the current graph\r\n",
        "tf.reset_default_graph()\r\n",
        "\r\n",
        "# import the graph from the file\r\n",
        "imported_graph = tf.train.import_meta_graph('my-CNN-model.meta')\r\n",
        "\r\n",
        "# list all the tensors in the graph\r\n",
        "for tensor in tf.get_default_graph().get_operations():\r\n",
        "    print (tensor.name)"
      ],
      "execution_count": 24,
      "outputs": [
        {
          "output_type": "stream",
          "text": [
            "X\n",
            "Y\n",
            "W1/Initializer/random_uniform/shape\n",
            "W1/Initializer/random_uniform/min\n",
            "W1/Initializer/random_uniform/max\n",
            "W1/Initializer/random_uniform/RandomUniform\n",
            "W1/Initializer/random_uniform/sub\n",
            "W1/Initializer/random_uniform/mul\n",
            "W1/Initializer/random_uniform\n",
            "W1\n",
            "W1/Assign\n",
            "W1/read\n",
            "W2/Initializer/random_uniform/shape\n",
            "W2/Initializer/random_uniform/min\n",
            "W2/Initializer/random_uniform/max\n",
            "W2/Initializer/random_uniform/RandomUniform\n",
            "W2/Initializer/random_uniform/sub\n",
            "W2/Initializer/random_uniform/mul\n",
            "W2/Initializer/random_uniform\n",
            "W2\n",
            "W2/Assign\n",
            "W2/read\n",
            "Conv2D\n",
            "Relu\n",
            "MaxPool\n",
            "Conv2D_1\n",
            "Relu_1\n",
            "MaxPool_1\n",
            "Flatten/flatten/Shape\n",
            "Flatten/flatten/strided_slice/stack\n",
            "Flatten/flatten/strided_slice/stack_1\n",
            "Flatten/flatten/strided_slice/stack_2\n",
            "Flatten/flatten/strided_slice\n",
            "Flatten/flatten/Reshape/shape/1\n",
            "Flatten/flatten/Reshape/shape\n",
            "Flatten/flatten/Reshape\n",
            "fully_connected/weights/Initializer/random_uniform/shape\n",
            "fully_connected/weights/Initializer/random_uniform/min\n",
            "fully_connected/weights/Initializer/random_uniform/max\n",
            "fully_connected/weights/Initializer/random_uniform/RandomUniform\n",
            "fully_connected/weights/Initializer/random_uniform/sub\n",
            "fully_connected/weights/Initializer/random_uniform/mul\n",
            "fully_connected/weights/Initializer/random_uniform\n",
            "fully_connected/weights\n",
            "fully_connected/weights/Assign\n",
            "fully_connected/weights/read\n",
            "fully_connected/biases/Initializer/zeros\n",
            "fully_connected/biases\n",
            "fully_connected/biases/Assign\n",
            "fully_connected/biases/read\n",
            "fully_connected/MatMul\n",
            "fully_connected/BiasAdd\n",
            "softmax_cross_entropy_with_logits_sg/labels_stop_gradient\n",
            "softmax_cross_entropy_with_logits_sg/Rank\n",
            "softmax_cross_entropy_with_logits_sg/Shape\n",
            "softmax_cross_entropy_with_logits_sg/Rank_1\n",
            "softmax_cross_entropy_with_logits_sg/Shape_1\n",
            "softmax_cross_entropy_with_logits_sg/Sub/y\n",
            "softmax_cross_entropy_with_logits_sg/Sub\n",
            "softmax_cross_entropy_with_logits_sg/Slice/begin\n",
            "softmax_cross_entropy_with_logits_sg/Slice/size\n",
            "softmax_cross_entropy_with_logits_sg/Slice\n",
            "softmax_cross_entropy_with_logits_sg/concat/values_0\n",
            "softmax_cross_entropy_with_logits_sg/concat/axis\n",
            "softmax_cross_entropy_with_logits_sg/concat\n",
            "softmax_cross_entropy_with_logits_sg/Reshape\n",
            "softmax_cross_entropy_with_logits_sg/Rank_2\n",
            "softmax_cross_entropy_with_logits_sg/Shape_2\n",
            "softmax_cross_entropy_with_logits_sg/Sub_1/y\n",
            "softmax_cross_entropy_with_logits_sg/Sub_1\n",
            "softmax_cross_entropy_with_logits_sg/Slice_1/begin\n",
            "softmax_cross_entropy_with_logits_sg/Slice_1/size\n",
            "softmax_cross_entropy_with_logits_sg/Slice_1\n",
            "softmax_cross_entropy_with_logits_sg/concat_1/values_0\n",
            "softmax_cross_entropy_with_logits_sg/concat_1/axis\n",
            "softmax_cross_entropy_with_logits_sg/concat_1\n",
            "softmax_cross_entropy_with_logits_sg/Reshape_1\n",
            "softmax_cross_entropy_with_logits_sg\n",
            "softmax_cross_entropy_with_logits_sg/Sub_2/y\n",
            "softmax_cross_entropy_with_logits_sg/Sub_2\n",
            "softmax_cross_entropy_with_logits_sg/Slice_2/begin\n",
            "softmax_cross_entropy_with_logits_sg/Slice_2/size\n",
            "softmax_cross_entropy_with_logits_sg/Slice_2\n",
            "softmax_cross_entropy_with_logits_sg/Reshape_2\n",
            "Const\n",
            "Mean\n",
            "gradients/Shape\n",
            "gradients/grad_ys_0\n",
            "gradients/Fill\n",
            "gradients/Mean_grad/Reshape/shape\n",
            "gradients/Mean_grad/Reshape\n",
            "gradients/Mean_grad/Shape\n",
            "gradients/Mean_grad/Tile\n",
            "gradients/Mean_grad/Shape_1\n",
            "gradients/Mean_grad/Shape_2\n",
            "gradients/Mean_grad/Const\n",
            "gradients/Mean_grad/Prod\n",
            "gradients/Mean_grad/Const_1\n",
            "gradients/Mean_grad/Prod_1\n",
            "gradients/Mean_grad/Maximum/y\n",
            "gradients/Mean_grad/Maximum\n",
            "gradients/Mean_grad/floordiv\n",
            "gradients/Mean_grad/Cast\n",
            "gradients/Mean_grad/truediv\n",
            "gradients/softmax_cross_entropy_with_logits_sg/Reshape_2_grad/Shape\n",
            "gradients/softmax_cross_entropy_with_logits_sg/Reshape_2_grad/Reshape\n",
            "gradients/zeros_like\n",
            "gradients/softmax_cross_entropy_with_logits_sg_grad/ExpandDims/dim\n",
            "gradients/softmax_cross_entropy_with_logits_sg_grad/ExpandDims\n",
            "gradients/softmax_cross_entropy_with_logits_sg_grad/mul\n",
            "gradients/softmax_cross_entropy_with_logits_sg_grad/LogSoftmax\n",
            "gradients/softmax_cross_entropy_with_logits_sg_grad/Neg\n",
            "gradients/softmax_cross_entropy_with_logits_sg_grad/ExpandDims_1/dim\n",
            "gradients/softmax_cross_entropy_with_logits_sg_grad/ExpandDims_1\n",
            "gradients/softmax_cross_entropy_with_logits_sg_grad/mul_1\n",
            "gradients/softmax_cross_entropy_with_logits_sg_grad/tuple/group_deps\n",
            "gradients/softmax_cross_entropy_with_logits_sg_grad/tuple/control_dependency\n",
            "gradients/softmax_cross_entropy_with_logits_sg_grad/tuple/control_dependency_1\n",
            "gradients/softmax_cross_entropy_with_logits_sg/Reshape_grad/Shape\n",
            "gradients/softmax_cross_entropy_with_logits_sg/Reshape_grad/Reshape\n",
            "gradients/fully_connected/BiasAdd_grad/BiasAddGrad\n",
            "gradients/fully_connected/BiasAdd_grad/tuple/group_deps\n",
            "gradients/fully_connected/BiasAdd_grad/tuple/control_dependency\n",
            "gradients/fully_connected/BiasAdd_grad/tuple/control_dependency_1\n",
            "gradients/fully_connected/MatMul_grad/MatMul\n",
            "gradients/fully_connected/MatMul_grad/MatMul_1\n",
            "gradients/fully_connected/MatMul_grad/tuple/group_deps\n",
            "gradients/fully_connected/MatMul_grad/tuple/control_dependency\n",
            "gradients/fully_connected/MatMul_grad/tuple/control_dependency_1\n",
            "gradients/Flatten/flatten/Reshape_grad/Shape\n",
            "gradients/Flatten/flatten/Reshape_grad/Reshape\n",
            "gradients/MaxPool_1_grad/MaxPoolGrad\n",
            "gradients/Relu_1_grad/ReluGrad\n",
            "gradients/Conv2D_1_grad/ShapeN\n",
            "gradients/Conv2D_1_grad/Conv2DBackpropInput\n",
            "gradients/Conv2D_1_grad/Conv2DBackpropFilter\n",
            "gradients/Conv2D_1_grad/tuple/group_deps\n",
            "gradients/Conv2D_1_grad/tuple/control_dependency\n",
            "gradients/Conv2D_1_grad/tuple/control_dependency_1\n",
            "gradients/MaxPool_grad/MaxPoolGrad\n",
            "gradients/Relu_grad/ReluGrad\n",
            "gradients/Conv2D_grad/ShapeN\n",
            "gradients/Conv2D_grad/Conv2DBackpropInput\n",
            "gradients/Conv2D_grad/Conv2DBackpropFilter\n",
            "gradients/Conv2D_grad/tuple/group_deps\n",
            "gradients/Conv2D_grad/tuple/control_dependency\n",
            "gradients/Conv2D_grad/tuple/control_dependency_1\n",
            "beta1_power/initial_value\n",
            "beta1_power\n",
            "beta1_power/Assign\n",
            "beta1_power/read\n",
            "beta2_power/initial_value\n",
            "beta2_power\n",
            "beta2_power/Assign\n",
            "beta2_power/read\n",
            "W1/Adam/Initializer/zeros/shape_as_tensor\n",
            "W1/Adam/Initializer/zeros/Const\n",
            "W1/Adam/Initializer/zeros\n",
            "W1/Adam\n",
            "W1/Adam/Assign\n",
            "W1/Adam/read\n",
            "W1/Adam_1/Initializer/zeros/shape_as_tensor\n",
            "W1/Adam_1/Initializer/zeros/Const\n",
            "W1/Adam_1/Initializer/zeros\n",
            "W1/Adam_1\n",
            "W1/Adam_1/Assign\n",
            "W1/Adam_1/read\n",
            "W2/Adam/Initializer/zeros/shape_as_tensor\n",
            "W2/Adam/Initializer/zeros/Const\n",
            "W2/Adam/Initializer/zeros\n",
            "W2/Adam\n",
            "W2/Adam/Assign\n",
            "W2/Adam/read\n",
            "W2/Adam_1/Initializer/zeros/shape_as_tensor\n",
            "W2/Adam_1/Initializer/zeros/Const\n",
            "W2/Adam_1/Initializer/zeros\n",
            "W2/Adam_1\n",
            "W2/Adam_1/Assign\n",
            "W2/Adam_1/read\n",
            "fully_connected/weights/Adam/Initializer/zeros\n",
            "fully_connected/weights/Adam\n",
            "fully_connected/weights/Adam/Assign\n",
            "fully_connected/weights/Adam/read\n",
            "fully_connected/weights/Adam_1/Initializer/zeros\n",
            "fully_connected/weights/Adam_1\n",
            "fully_connected/weights/Adam_1/Assign\n",
            "fully_connected/weights/Adam_1/read\n",
            "fully_connected/biases/Adam/Initializer/zeros\n",
            "fully_connected/biases/Adam\n",
            "fully_connected/biases/Adam/Assign\n",
            "fully_connected/biases/Adam/read\n",
            "fully_connected/biases/Adam_1/Initializer/zeros\n",
            "fully_connected/biases/Adam_1\n",
            "fully_connected/biases/Adam_1/Assign\n",
            "fully_connected/biases/Adam_1/read\n",
            "Adam/learning_rate\n",
            "Adam/beta1\n",
            "Adam/beta2\n",
            "Adam/epsilon\n",
            "Adam/update_W1/ApplyAdam\n",
            "Adam/update_W2/ApplyAdam\n",
            "Adam/update_fully_connected/weights/ApplyAdam\n",
            "Adam/update_fully_connected/biases/ApplyAdam\n",
            "Adam/mul\n",
            "Adam/Assign\n",
            "Adam/mul_1\n",
            "Adam/Assign_1\n",
            "Adam\n",
            "init\n",
            "ArgMax/dimension\n",
            "ArgMax\n",
            "ArgMax_1/dimension\n",
            "ArgMax_1\n",
            "Equal\n",
            "Cast\n",
            "Const_1\n",
            "Mean_1\n",
            "save/filename/input\n",
            "save/filename\n",
            "save/Const\n",
            "save/SaveV2/tensor_names\n",
            "save/SaveV2/shape_and_slices\n",
            "save/SaveV2\n",
            "save/control_dependency\n",
            "save/RestoreV2/tensor_names\n",
            "save/RestoreV2/shape_and_slices\n",
            "save/RestoreV2\n",
            "save/Assign\n",
            "save/Assign_1\n",
            "save/Assign_2\n",
            "save/Assign_3\n",
            "save/Assign_4\n",
            "save/Assign_5\n",
            "save/Assign_6\n",
            "save/Assign_7\n",
            "save/Assign_8\n",
            "save/Assign_9\n",
            "save/Assign_10\n",
            "save/Assign_11\n",
            "save/Assign_12\n",
            "save/Assign_13\n",
            "save/restore_all\n"
          ],
          "name": "stdout"
        }
      ]
    },
    {
      "cell_type": "code",
      "metadata": {
        "id": "zo9CnuYQZlhS"
      },
      "source": [
        "def read_image(file_path):\r\n",
        "    img = cv2.imread(file_path, cv2.IMREAD_COLOR)\r\n",
        "    return cv2.resize(img, (ROWS, COLS), interpolation=cv2.INTER_CUBIC)"
      ],
      "execution_count": 27,
      "outputs": []
    },
    {
      "cell_type": "code",
      "metadata": {
        "colab": {
          "base_uri": "https://localhost:8080/"
        },
        "id": "pHSnEPCrZOCS",
        "outputId": "bd852412-096e-4987-d9d1-332d855cd35c"
      },
      "source": [
        "#test_image = \"cat.jpg\"\r\n",
        "import cv2\r\n",
        "test_image = \"/content/drive/MyDrive/dataset/with_mask/0_0_≈˙◊¢ 2020-02-25 185823.png\"\r\n",
        "my_image = read_image(test_image).reshape(1, ROWS, COLS, CHANNELS)\r\n",
        "X = my_image / 255.\r\n",
        "#print(X.shape)\r\n",
        "\r\n",
        "checkpoint_path = 'my-CNN-model'\r\n",
        "tf.reset_default_graph()\r\n",
        "\r\n",
        "with tf.Session() as sess:\r\n",
        "\r\n",
        "    ## Load the entire model previuosly saved in a checkpoint\r\n",
        "    print(\"Load the model from path\", checkpoint_path)\r\n",
        "    the_Saver = tf.train.import_meta_graph(checkpoint_path + '.meta')\r\n",
        "    the_Saver.restore(sess, checkpoint_path)\r\n",
        "\r\n",
        "    ## Identify the predictor of the Tensorflow graph\r\n",
        "    predict_op = tf.get_collection('predict_op')[0]\r\n",
        "\r\n",
        "    ## Identify the restored Tensorflow graph\r\n",
        "    dataFlowGraph = tf.get_default_graph()\r\n",
        "\r\n",
        "    ## Identify the input placeholder to feed the images into as defined in the model \r\n",
        "    x = dataFlowGraph.get_tensor_by_name(\"X:0\")\r\n",
        "\r\n",
        "    ## Predict the image category\r\n",
        "    prediction = sess.run(predict_op, feed_dict = {x: X})\r\n",
        "\r\n",
        "    print(\"\\nThe predicted image class is:\", np.squeeze(prediction))"
      ],
      "execution_count": 40,
      "outputs": [
        {
          "output_type": "stream",
          "text": [
            "Load the model from path my-CNN-model\n",
            "INFO:tensorflow:Restoring parameters from my-CNN-model\n",
            "\n",
            "The predicted image class is: 0\n"
          ],
          "name": "stdout"
        }
      ]
    }
  ]
}