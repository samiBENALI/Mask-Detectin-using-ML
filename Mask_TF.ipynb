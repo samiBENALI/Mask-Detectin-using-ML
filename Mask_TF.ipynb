{
  "nbformat": 4,
  "nbformat_minor": 0,
  "metadata": {
    "colab": {
      "name": "Untitled0.ipynb",
      "provenance": []
    },
    "kernelspec": {
      "name": "python3",
      "display_name": "Python 3"
    }
  },
  "cells": [
    {
      "cell_type": "code",
      "metadata": {
        "id": "fWUZ4uQt2FR3"
      },
      "source": [
        "%tensorflow_version 1.x\r\n",
        "\r\n",
        "\r\n",
        "from google.colab import drive \r\n"
      ],
      "execution_count": 132,
      "outputs": []
    },
    {
      "cell_type": "code",
      "metadata": {
        "colab": {
          "base_uri": "https://localhost:8080/"
        },
        "id": "j1x_g-aP6t8u",
        "outputId": "08cb9be5-96d6-4459-8e9a-20d3fada1ace"
      },
      "source": [
        "drive.mount('/content/drive/')"
      ],
      "execution_count": 133,
      "outputs": [
        {
          "output_type": "stream",
          "text": [
            "Drive already mounted at /content/drive/; to attempt to forcibly remount, call drive.mount(\"/content/drive/\", force_remount=True).\n"
          ],
          "name": "stdout"
        }
      ]
    },
    {
      "cell_type": "code",
      "metadata": {
        "id": "Bh-TC8w97OLL"
      },
      "source": [
        "import math\r\n",
        "import numpy as np\r\n",
        "import h5py\r\n",
        "import matplotlib.pyplot as plt\r\n",
        "\r\n",
        "import os\r\n",
        "from PIL import Image\r\n",
        "import tensorflow as tf\r\n",
        "from tensorflow.python.framework import ops\r\n"
      ],
      "execution_count": 134,
      "outputs": []
    },
    {
      "cell_type": "code",
      "metadata": {
        "id": "VHgXzmLD7plr"
      },
      "source": [
        "DIRECTORY = r\"/content/drive/MyDrive/dataset\"\r\n",
        "CATEGORIES = [\"with_mask\", \"without_mask\"]"
      ],
      "execution_count": 135,
      "outputs": []
    },
    {
      "cell_type": "code",
      "metadata": {
        "id": "WVccqF6h7zbr"
      },
      "source": [
        "\r\n",
        "def load_dataset():\r\n",
        "    x_list=[]\r\n",
        "    y_list=[]\r\n",
        "    class_list=[]\r\n",
        "    path1 = os.path.join(DIRECTORY,CATEGORIES[0])\r\n",
        "    path2 = os.path.join(DIRECTORY,CATEGORIES[1])\r\n",
        "    list1=os.listdir(path1)\r\n",
        "    list2=os.listdir(path2)\r\n",
        "    for img1,img2 in zip(list1,list2):\r\n",
        "        img_path1 = os.path.join(path1, img1)\r\n",
        "        image1=Image.open(img_path1)\r\n",
        "        image1 = image1.resize((64,64))\r\n",
        "        image1 =np.array( image1)\r\n",
        "        img_path2 = os.path.join(path2, img2)\r\n",
        "        image2 = Image.open(img_path2)\r\n",
        "        image2 = image2.resize((64, 64))\r\n",
        "        image2 = np.array(image2)\r\n",
        "        x_list.append(image1)\r\n",
        "        x_list.append(image2)\r\n",
        "        y_list.append([1])\r\n",
        "        y_list.append([0])\r\n",
        "        class_list.append(CATEGORIES[0])\r\n",
        "        class_list.append(CATEGORIES[1])\r\n",
        "        if ( len (x_list) > 249):    #to limit the number ( crappy PC)\r\n",
        "            return (x_list,y_list,class_list)\r\n"
      ],
      "execution_count": 136,
      "outputs": []
    },
    {
      "cell_type": "code",
      "metadata": {
        "id": "HQelqfDs8Eh8"
      },
      "source": [
        "\r\n",
        "def data_flat_split():\r\n",
        "    x_list, y_list, class_list = load_dataset()\r\n",
        "\r\n",
        "    print(len(x_list), \" --\", len(y_list), \"----\", len(class_list))\r\n",
        "\r\n",
        "    print(x_list[0].shape)\r\n",
        "    print(x_list[1].shape)\r\n",
        "    print(x_list[100].shape)\r\n",
        "    train_set_x_orig= np.array(x_list[0:209])\r\n",
        "    train_set_y = np.array(y_list[0:209]).T\r\n",
        "    train_classes=np.array(class_list[0:209])\r\n",
        "    test_set_x_orig = np.array( x_list[209:])\r\n",
        "    test_set_y = np.array(y_list[209:]).T\r\n",
        "    test_classes = np.array(class_list[209:])\r\n",
        "\r\n",
        "    train_set_x_flatten = train_set_x_orig.reshape(train_set_x_orig.shape[0], -1).T/255.\r\n",
        "    test_set_x_flatten = test_set_x_orig.reshape(test_set_x_orig.shape[0], -1).T/255.\r\n",
        "    train_set_y = convert_to_one_hot(train_set_y, 2)\r\n",
        "    test_set_y = convert_to_one_hot(test_set_y, 2)\r\n",
        "    return (train_set_x_flatten,test_set_x_flatten,train_set_y,test_set_y,train_classes,test_classes)\r\n",
        "\r\n"
      ],
      "execution_count": 137,
      "outputs": []
    },
    {
      "cell_type": "code",
      "metadata": {
        "id": "ikru8dBON91D"
      },
      "source": [
        ""
      ],
      "execution_count": null,
      "outputs": []
    },
    {
      "cell_type": "code",
      "metadata": {
        "colab": {
          "base_uri": "https://localhost:8080/"
        },
        "id": "9emYO6iW8J9U",
        "outputId": "bebcd3fc-ea1b-4d0e-a2bc-12600e562d7f"
      },
      "source": [
        "train_set_x_flatten,test_set_x_flatten,train_set_y,test_set_y,train_classes,test_classes=data_flat_split()\r\n",
        "\r\n",
        "print ( train_set_x_flatten.shape,\"---\",train_set_y.shape)"
      ],
      "execution_count": 138,
      "outputs": [
        {
          "output_type": "stream",
          "text": [
            "250  -- 250 ---- 250\n",
            "(64, 64, 3)\n",
            "(64, 64, 3)\n",
            "(64, 64, 3)\n",
            "(12288, 209) --- (2, 209)\n"
          ],
          "name": "stdout"
        }
      ]
    },
    {
      "cell_type": "code",
      "metadata": {
        "id": "w1c7w6L080Yj"
      },
      "source": [
        "\r\n",
        "def random_mini_batches(X, Y, mini_batch_size=64, seed=0):\r\n",
        "    \"\"\"\r\n",
        "    Creates a list of random minibatches from (X, Y)\r\n",
        "\r\n",
        "    Arguments:\r\n",
        "    X -- input data, of shape (input size, number of examples)\r\n",
        "    Y -- true \"label\" vector (containing 0 if cat, 1 if non-cat), of shape (1, number of examples)\r\n",
        "    mini_batch_size - size of the mini-batches, integer\r\n",
        "    seed -- this is only for the purpose of grading, so that you're \"random minibatches are the same as ours.\r\n",
        "\r\n",
        "    Returns:\r\n",
        "    mini_batches -- list of synchronous (mini_batch_X, mini_batch_Y)\r\n",
        "    \"\"\"\r\n",
        "\r\n",
        "    m = X.shape[1]  # number of training examples\r\n",
        "    mini_batches = []\r\n",
        " \r\n",
        "\r\n",
        "    # Step 1: Shuffle (X, Y)\r\n",
        "    permutation = list(np.random.permutation(m))\r\n",
        "    shuffled_X = X[:, permutation]\r\n",
        "    shuffled_Y = Y[:, permutation].reshape((Y.shape[0], m))\r\n",
        "\r\n",
        "    # Step 2: Partition (shuffled_X, shuffled_Y). Minus the end case.\r\n",
        "    num_complete_minibatches = math.floor(\r\n",
        "        m / mini_batch_size)  # number of mini batches of size mini_batch_size in your partitionning\r\n",
        "    for k in range(0, num_complete_minibatches):\r\n",
        "        mini_batch_X = shuffled_X[:, k * mini_batch_size: k * mini_batch_size + mini_batch_size]\r\n",
        "        mini_batch_Y = shuffled_Y[:, k * mini_batch_size: k * mini_batch_size + mini_batch_size]\r\n",
        "        mini_batch = (mini_batch_X, mini_batch_Y)\r\n",
        "        mini_batches.append(mini_batch)\r\n",
        "\r\n",
        "    # Handling the end case (last mini-batch < mini_batch_size)\r\n",
        "    if m % mini_batch_size != 0:\r\n",
        "        mini_batch_X = shuffled_X[:, num_complete_minibatches * mini_batch_size: m]\r\n",
        "        mini_batch_Y = shuffled_Y[:, num_complete_minibatches * mini_batch_size: m]\r\n",
        "        mini_batch = (mini_batch_X, mini_batch_Y)\r\n",
        "        mini_batches.append(mini_batch)\r\n",
        "\r\n",
        "    return mini_batches"
      ],
      "execution_count": 139,
      "outputs": []
    },
    {
      "cell_type": "code",
      "metadata": {
        "id": "ZUlDy7gT9XHj"
      },
      "source": [
        "def convert_to_one_hot(Y, C):\r\n",
        "    Y = np.eye(C)[Y.reshape(-1)].T\r\n",
        "    return Y\r\n",
        "    "
      ],
      "execution_count": 140,
      "outputs": []
    },
    {
      "cell_type": "code",
      "metadata": {
        "id": "oVlysGyL9bYz"
      },
      "source": [
        "\r\n",
        "def predict(X, parameters):\r\n",
        "    W1 = tf.convert_to_tensor(parameters[\"W1\"])\r\n",
        "    b1 = tf.convert_to_tensor(parameters[\"b1\"])\r\n",
        "    W2 = tf.convert_to_tensor(parameters[\"W2\"])\r\n",
        "    b2 = tf.convert_to_tensor(parameters[\"b2\"])\r\n",
        "    W3 = tf.convert_to_tensor(parameters[\"W3\"])\r\n",
        "    b3 = tf.convert_to_tensor(parameters[\"b3\"])\r\n",
        "\r\n",
        "    params = {\"W1\": W1,\r\n",
        "              \"b1\": b1,\r\n",
        "              \"W2\": W2,\r\n",
        "              \"b2\": b2,\r\n",
        "              \"W3\": W3,\r\n",
        "              \"b3\": b3}\r\n",
        "\r\n",
        "    x = tf.placeholder(\"float\", [12288, 1])\r\n",
        "\r\n",
        "    z3 = forward_propagation_for_predict(x, params)\r\n",
        "    p = tf.argmax(z3)\r\n",
        "\r\n",
        "    sess = tf.Session()\r\n",
        "    prediction = sess.run(p, feed_dict={x: X})\r\n",
        "\r\n",
        "    return prediction"
      ],
      "execution_count": 141,
      "outputs": []
    },
    {
      "cell_type": "code",
      "metadata": {
        "id": "2stlXRWv9jZL"
      },
      "source": [
        "\r\n",
        "def forward_propagation_for_predict(X, parameters):\r\n",
        "    \"\"\"\r\n",
        "    Implements the forward propagation for the model: LINEAR -> RELU -> LINEAR -> RELU -> LINEAR -> SOFTMAX\r\n",
        "\r\n",
        "    Arguments:\r\n",
        "    X -- input dataset placeholder, of shape (input size, number of examples)\r\n",
        "    parameters -- python dictionary containing your parameters \"W1\", \"b1\", \"W2\", \"b2\", \"W3\", \"b3\"\r\n",
        "                  the shapes are given in initialize_parameters\r\n",
        "    Returns:\r\n",
        "    Z3 -- the output of the last LINEAR unit\r\n",
        "    \"\"\"\r\n",
        "\r\n",
        "    # Retrieve the parameters from the dictionary \"parameters\"\r\n",
        "    W1 = parameters['W1']\r\n",
        "    b1 = parameters['b1']\r\n",
        "    W2 = parameters['W2']\r\n",
        "    b2 = parameters['b2']\r\n",
        "    W3 = parameters['W3']\r\n",
        "    b3 = parameters['b3']\r\n",
        "    # Numpy Equivalents:\r\n",
        "    Z1 = tf.add(tf.matmul(W1, X), b1)  # Z1 = np.dot(W1, X) + b1\r\n",
        "    A1 = tf.nn.relu(Z1)  # A1 = relu(Z1)\r\n",
        "    Z2 = tf.add(tf.matmul(W2, A1), b2)  # Z2 = np.dot(W2, a1) + b2\r\n",
        "    A2 = tf.nn.relu(Z2)  # A2 = relu(Z2)\r\n",
        "    Z3 = tf.add(tf.matmul(W3, A2), b3)  # Z3 = np.dot(W3,Z2) + b3\r\n",
        "\r\n",
        "    return Z3"
      ],
      "execution_count": 142,
      "outputs": []
    },
    {
      "cell_type": "code",
      "metadata": {
        "id": "2ZkSU5IA9l8d"
      },
      "source": [
        "\r\n",
        "# GRADED FUNCTION: sigmoid\r\n",
        "\r\n",
        "def sigmoid(z):\r\n",
        "    \"\"\"\r\n",
        "    Computes the sigmoid of z\r\n",
        "\r\n",
        "    Arguments:\r\n",
        "    z -- input value, scalar or vector\r\n",
        "\r\n",
        "    Returns:\r\n",
        "    results -- the sigmoid of z\r\n",
        "    \"\"\"\r\n",
        "\r\n",
        "    ### START CODE HERE ### ( approx. 4 lines of code)\r\n",
        "    # Create a placeholder for x. Name it 'x'.\r\n",
        "    x = tf.placeholder(tf.float32, name=\"x\")\r\n",
        "\r\n",
        "    # compute sigmoid(x)\r\n",
        "    sigmoid = tf.sigmoid(x)\r\n",
        "\r\n",
        "    # Create a session, and run it. Please use the method 2 explained above.\r\n",
        "    # You should use a feed_dict to pass z's value to x.\r\n",
        "    with tf.Session() as sess:\r\n",
        "        # Run session and call the output \"result\"\r\n",
        "        result = result = sess.run(sigmoid, feed_dict={x: z})\r\n",
        "\r\n",
        "    ### END CODE HERE ###\r\n",
        "\r\n",
        "    return result"
      ],
      "execution_count": 143,
      "outputs": []
    },
    {
      "cell_type": "code",
      "metadata": {
        "id": "3TbFEnh49spD"
      },
      "source": [
        "\r\n",
        "# GRADED FUNCTION: cost\r\n",
        "\r\n",
        "def cost(logits, labels):\r\n",
        "    \"\"\"\r\n",
        "    Computes the cost using the sigmoid cross entropy\r\n",
        "\r\n",
        "    Arguments:\r\n",
        "    logits -- vector containing z, output of the last linear unit (before the final sigmoid activation)\r\n",
        "    labels -- vector of labels y (1 or 0)\r\n",
        "\r\n",
        "    Note: What we've been calling \"z\" and \"y\" in this class are respectively called \"logits\" and \"labels\"\r\n",
        "    in the TensorFlow documentation. So logits will feed into z, and labels into y.\r\n",
        "\r\n",
        "    Returns:\r\n",
        "    cost -- runs the session of the cost (formula (2))\r\n",
        "    \"\"\"\r\n",
        "\r\n",
        "    ### START CODE HERE ###\r\n",
        "\r\n",
        "    # Create the placeholders for \"logits\" (z) and \"labels\" (y) (approx. 2 lines)\r\n",
        "    z = tf.placeholder(tf.float32, name=\"z\")\r\n",
        "    y = tf.placeholder(tf.float32, name=\"y\")\r\n",
        "\r\n",
        "    # Use the loss function (approx. 1 line)\r\n",
        "    cost = tf.nn.sigmoid_cross_entropy_with_logits(logits=z, labels=y)\r\n",
        "\r\n",
        "    # Create a session (approx. 1 line). See method 1 above.\r\n",
        "    sess = tf.Session()\r\n",
        "\r\n",
        "    # Run the session (approx. 1 line).\r\n",
        "    cost = sess.run(cost, feed_dict={z: logits, y: labels})\r\n",
        "\r\n",
        "    # Close the session (approx. 1 line). See method 1 above.\r\n",
        "    sess.close()\r\n",
        "\r\n",
        "    ### END CODE HERE ###\r\n",
        "\r\n",
        "    return cost"
      ],
      "execution_count": 144,
      "outputs": []
    },
    {
      "cell_type": "code",
      "metadata": {
        "id": "FK4CsHYs9yhj"
      },
      "source": [
        "\r\n",
        "# GRADED FUNCTION: one_hot_matrix\r\n",
        "\r\n",
        "def one_hot_matrix(labels, C):\r\n",
        "    \"\"\"\r\n",
        "    Creates a matrix where the i-th row corresponds to the ith class number and the jth column\r\n",
        "                     corresponds to the jth training example. So if example j had a label i. Then entry (i,j)\r\n",
        "                     will be 1.\r\n",
        "\r\n",
        "    Arguments:\r\n",
        "    labels -- vector containing the labels\r\n",
        "    C -- number of classes, the depth of the one hot dimension\r\n",
        "\r\n",
        "    Returns:\r\n",
        "    one_hot -- one hot matrix\r\n",
        "    \"\"\"\r\n",
        "\r\n",
        "    ### START CODE HERE ###\r\n",
        "\r\n",
        "    # Create a tf.constant equal to C (depth), name it 'C'. (approx. 1 line)\r\n",
        "    C = tf.constant(C, name='C')\r\n",
        "\r\n",
        "    # Use tf.one_hot, be careful with the axis (approx. 1 line)\r\n",
        "    one_hot_matrix = tf.one_hot(indices=labels, depth=C, axis=0)\r\n",
        "\r\n",
        "    # Create the session (approx. 1 line)\r\n",
        "    sess = tf.Session()\r\n",
        "\r\n",
        "    # Run the session (approx. 1 line)\r\n",
        "    one_hot = sess.run(one_hot_matrix)\r\n",
        "\r\n",
        "    # Close the session (approx. 1 line). See method 1 above.\r\n",
        "    sess.close()\r\n",
        "\r\n",
        "    ### END CODE HERE ###\r\n",
        "\r\n",
        "    return one_hot\r\n"
      ],
      "execution_count": 145,
      "outputs": []
    },
    {
      "cell_type": "code",
      "metadata": {
        "id": "XcpvG50u924V"
      },
      "source": [
        "\r\n",
        "# GRADED FUNCTION: ones\r\n",
        "\r\n",
        "def ones(shape):\r\n",
        "    \"\"\"\r\n",
        "    Creates an array of ones of dimension shape\r\n",
        "\r\n",
        "    Arguments:\r\n",
        "    shape -- shape of the array you want to create\r\n",
        "\r\n",
        "    Returns:\r\n",
        "    ones -- array containing only ones\r\n",
        "    \"\"\"\r\n",
        "\r\n",
        "    ### START CODE HERE ###\r\n",
        "\r\n",
        "    # Create \"ones\" tensor using tf.ones(...). (approx. 1 line)\r\n",
        "    ones = tf.ones(shape)\r\n",
        "\r\n",
        "    # Create the session (approx. 1 line)\r\n",
        "    sess = tf.Session()\r\n",
        "\r\n",
        "    # Run the session to compute 'ones' (approx. 1 line)\r\n",
        "    ones = sess.run(ones)\r\n",
        "\r\n",
        "    # Close the session (approx. 1 line). See method 1 above.\r\n",
        "    sess.close()\r\n",
        "\r\n",
        "    ### END CODE HERE ###\r\n",
        "    return ones\r\n",
        "\r\n"
      ],
      "execution_count": 146,
      "outputs": []
    },
    {
      "cell_type": "code",
      "metadata": {
        "id": "QsmaWb7m96Hl"
      },
      "source": [
        "\r\n",
        "# GRADED FUNCTION: create_placeholders\r\n",
        "\r\n",
        "def create_placeholders(n_x, n_y):\r\n",
        "    \"\"\"\r\n",
        "    Creates the placeholders for the tensorflow session.\r\n",
        "\r\n",
        "    Arguments:\r\n",
        "    n_x -- scalar, size of an image vector (num_px * num_px = 64 * 64 * 3 = 12288)\r\n",
        "    n_y -- scalar, number of classes (from 0 to 5, so -> 6)\r\n",
        "\r\n",
        "    Returns:\r\n",
        "    X -- placeholder for the data input, of shape [n_x, None] and dtype \"float\"\r\n",
        "    Y -- placeholder for the input labels, of shape [n_y, None] and dtype \"float\"\r\n",
        "\r\n",
        "    Tips:\r\n",
        "    - You will use None because it let's us be flexible on the number of examples you will for the placeholders.\r\n",
        "      In fact, the number of examples during test/train is different.\r\n",
        "    \"\"\"\r\n",
        "\r\n",
        "    ### START CODE HERE ### (approx. 2 lines)\r\n",
        "    X = tf.placeholder(tf.float32, [n_x, None], name=\"X\")\r\n",
        "    Y = tf.placeholder(tf.float32, [n_y, None], name=\"Y\")\r\n",
        "    ### END CODE HERE ###\r\n",
        "\r\n",
        "    return X, Y\r\n"
      ],
      "execution_count": 147,
      "outputs": []
    },
    {
      "cell_type": "code",
      "metadata": {
        "id": "QJmV8Tul99nG"
      },
      "source": [
        "\r\n",
        "def initialize_parameters():\r\n",
        "    \"\"\"\r\n",
        "    Initializes parameters to build a neural network with tensorflow. The shapes are:\r\n",
        "                        W1 : [25, 12288]\r\n",
        "                        b1 : [25, 1]\r\n",
        "                        W2 : [12, 25]\r\n",
        "                        b2 : [12, 1]\r\n",
        "                        W3 : [2, 12]\r\n",
        "                        b3 : [2, 1]\r\n",
        "    \r\n",
        "    Returns:\r\n",
        "    parameters -- a dictionary of tensors containing W1, b1, W2, b2, W3, b3\r\n",
        "    \"\"\"\r\n",
        "    \r\n",
        "    \r\n",
        "        \r\n",
        "    ### START CODE HERE ### (approx. 6 lines of code)\r\n",
        "    W1 = tf.get_variable(\"W1\", [25, 12288], initializer = tf.contrib.layers.xavier_initializer())\r\n",
        "    b1 = tf.get_variable(\"b1\", [25, 1], initializer = tf.zeros_initializer())\r\n",
        "    W2 = tf.get_variable(\"W2\", [12, 25], initializer = tf.contrib.layers.xavier_initializer())\r\n",
        "    b2 = tf.get_variable(\"b2\", [12, 1], initializer = tf.zeros_initializer())\r\n",
        "    W3 = tf.get_variable(\"W3\", [2, 12], initializer = tf.contrib.layers.xavier_initializer())\r\n",
        "    b3 = tf.get_variable(\"b3\", [2, 1], initializer = tf.zeros_initializer())\r\n",
        "    ### END CODE HERE ###\r\n",
        "\r\n",
        "    parameters = {\"W1\": W1,\r\n",
        "                  \"b1\": b1,\r\n",
        "                  \"W2\": W2,\r\n",
        "                  \"b2\": b2,\r\n",
        "                  \"W3\": W3,\r\n",
        "                  \"b3\": b3}\r\n",
        "    \r\n",
        "    return parameters"
      ],
      "execution_count": 148,
      "outputs": []
    },
    {
      "cell_type": "code",
      "metadata": {
        "id": "LmaHhNlCD07W"
      },
      "source": [
        "# GRADED FUNCTION: forward_propagation\r\n",
        "\r\n",
        "def forward_propagation(X, parameters):\r\n",
        "    \"\"\"\r\n",
        "    Implements the forward propagation for the model: LINEAR -> RELU -> LINEAR -> RELU -> LINEAR -> SOFTMAX\r\n",
        "    \r\n",
        "    Arguments:\r\n",
        "    X -- input dataset placeholder, of shape (input size, number of examples)\r\n",
        "    parameters -- python dictionary containing your parameters \"W1\", \"b1\", \"W2\", \"b2\", \"W3\", \"b3\"\r\n",
        "                  the shapes are given in initialize_parameters\r\n",
        "\r\n",
        "    Returns:\r\n",
        "    Z3 -- the output of the last LINEAR unit\r\n",
        "    \"\"\"\r\n",
        "    \r\n",
        "    # Retrieve the parameters from the dictionary \"parameters\" \r\n",
        "    W1 = parameters['W1']\r\n",
        "    b1 = parameters['b1']\r\n",
        "    W2 = parameters['W2']\r\n",
        "    b2 = parameters['b2']\r\n",
        "    W3 = parameters['W3']\r\n",
        "    b3 = parameters['b3']\r\n",
        "    \r\n",
        "    ### START CODE HERE ### (approx. 5 lines)              # Numpy Equivalents:\r\n",
        "    Z1 = tf.add(tf.matmul(W1, X), b1)                      # Z1 = np.dot(W1, X) + b1\r\n",
        "    A1 = tf.nn.relu(Z1)                                    # A1 = relu(Z1)\r\n",
        "    Z2 = tf.add(tf.matmul(W2, A1), b2)                     # Z2 = np.dot(W2, a1) + b2\r\n",
        "    A2 = tf.nn.relu(Z2)                                    # A2 = relu(Z2)\r\n",
        "    Z3 = tf.add(tf.matmul(W3, A2), b3)                     # Z3 = np.dot(W3,Z2) + b3\r\n",
        "    ### END CODE HERE ###\r\n",
        "    \r\n",
        "    return Z3"
      ],
      "execution_count": 149,
      "outputs": []
    },
    {
      "cell_type": "code",
      "metadata": {
        "id": "MWQq8Mds-QWp"
      },
      "source": [
        "# GRADED FUNCTION: compute_cost \r\n",
        "\r\n",
        "def compute_cost(Z3, Y):\r\n",
        "    \"\"\"\r\n",
        "    Computes the cost\r\n",
        "    \r\n",
        "    Arguments:\r\n",
        "    Z3 -- output of forward propagation (output of the last LINEAR unit), of shape (6, number of examples)\r\n",
        "    Y -- \"true\" labels vector placeholder, same shape as Z3\r\n",
        "    \r\n",
        "    Returns:\r\n",
        "    cost - Tensor of the cost function\r\n",
        "    \"\"\"\r\n",
        "    \r\n",
        "    # to fit the tensorflow requirement for tf.nn.softmax_cross_entropy_with_logits(...,...)\r\n",
        "    logits = tf.transpose(Z3)\r\n",
        "    labels = tf.transpose(Y)\r\n",
        "    \r\n",
        "    ### START CODE HERE ### (1 line of code)\r\n",
        "    cost = tf.reduce_mean(tf.nn.softmax_cross_entropy_with_logits(logits=logits, labels=labels))\r\n",
        "    ### END CODE HERE ###\r\n",
        "    \r\n",
        "    return cost\r\n"
      ],
      "execution_count": 150,
      "outputs": []
    },
    {
      "cell_type": "code",
      "metadata": {
        "id": "0HW2yiihEJU-"
      },
      "source": [
        "def model(X_train, Y_train, X_test, Y_test, learning_rate = 0.0001,\r\n",
        "          num_epochs = 1500, minibatch_size = 32, print_cost = True):\r\n",
        "    \"\"\"\r\n",
        "    Implements a three-layer tensorflow neural network: LINEAR->RELU->LINEAR->RELU->LINEAR->SOFTMAX.\r\n",
        "    \r\n",
        "    Arguments:\r\n",
        "    X_train -- training set, of shape (input size = 12288, number of training examples = 1080)\r\n",
        "    Y_train -- test set, of shape (output size = 6, number of training examples = 1080)\r\n",
        "    X_test -- training set, of shape (input size = 12288, number of training examples = 120)\r\n",
        "    Y_test -- test set, of shape (output size = 6, number of test examples = 120)\r\n",
        "    learning_rate -- learning rate of the optimization\r\n",
        "    num_epochs -- number of epochs of the optimization loop\r\n",
        "    minibatch_size -- size of a minibatch\r\n",
        "    print_cost -- True to print the cost every 100 epochs\r\n",
        "    \r\n",
        "    Returns:\r\n",
        "    parameters -- parameters learnt by the model. They can then be used to predict.\r\n",
        "    \"\"\"\r\n",
        "    \r\n",
        "    ops.reset_default_graph()                         # to be able to rerun the model without overwriting tf variables\r\n",
        "   \r\n",
        "    (n_x, m) = X_train.shape                          # (n_x: input size, m : number of examples in the train set)\r\n",
        "    n_y = Y_train.shape[0]                            # n_y : output size\r\n",
        "    costs = []                                        # To keep track of the cost\r\n",
        "    \r\n",
        "    # Create Placeholders of shape (n_x, n_y)\r\n",
        "    ### START CODE HERE ### (1 line)\r\n",
        "    X, Y = create_placeholders(n_x, n_y)\r\n",
        "    ### END CODE HERE ###\r\n",
        "\r\n",
        "    # Initialize parameters\r\n",
        "    ### START CODE HERE ### (1 line)\r\n",
        "    parameters = initialize_parameters()\r\n",
        "    ### END CODE HERE ###\r\n",
        "    \r\n",
        "    # Forward propagation: Build the forward propagation in the tensorflow graph\r\n",
        "    ### START CODE HERE ### (1 line)\r\n",
        "    Z3 = forward_propagation(X, parameters)\r\n",
        "    ### END CODE HERE ###\r\n",
        "    \r\n",
        "    # Cost function: Add cost function to tensorflow graph\r\n",
        "    ### START CODE HERE ### (1 line)\r\n",
        "    cost = compute_cost(Z3, Y)\r\n",
        "    ### END CODE HERE ###\r\n",
        "    \r\n",
        "    # Backpropagation: Define the tensorflow optimizer. Use an AdamOptimizer.\r\n",
        "    ### START CODE HERE ### (1 line)\r\n",
        "    optimizer = tf.train.AdamOptimizer(learning_rate=learning_rate).minimize(cost)\r\n",
        "    ### END CODE HERE ###\r\n",
        "    \r\n",
        "    # Initialize all the variables\r\n",
        "    init = tf.global_variables_initializer()\r\n",
        "\r\n",
        "    # Start the session to compute the tensorflow graph\r\n",
        "    with tf.Session() as sess:\r\n",
        "        \r\n",
        "        # Run the initialization\r\n",
        "        sess.run(init)\r\n",
        "        \r\n",
        "        # Do the training loop\r\n",
        "        for epoch in range(num_epochs):\r\n",
        "\r\n",
        "            epoch_cost = 0.                       # Defines a cost related to an epoch\r\n",
        "            num_minibatches = int(m / minibatch_size) # number of minibatches of size minibatch_size in the train set\r\n",
        "            \r\n",
        "            minibatches = random_mini_batches(X_train, Y_train, minibatch_size)\r\n",
        "\r\n",
        "            for minibatch in minibatches:\r\n",
        "\r\n",
        "                # Select a minibatch\r\n",
        "                (minibatch_X, minibatch_Y) = minibatch\r\n",
        "                \r\n",
        "                # IMPORTANT: The line that runs the graph on a minibatch.\r\n",
        "                # Run the session to execute the \"optimizer\" and the \"cost\", the feedict should contain a minibatch for (X,Y).\r\n",
        "                ### START CODE HERE ### (1 line)\r\n",
        "                _ , minibatch_cost = sess.run([optimizer, cost], feed_dict={X: minibatch_X, Y: minibatch_Y})\r\n",
        "                ### END CODE HERE ###\r\n",
        "                \r\n",
        "                epoch_cost += minibatch_cost / num_minibatches\r\n",
        "\r\n",
        "            # Print the cost every epoch\r\n",
        "            if print_cost == True and epoch % 100 == 0:\r\n",
        "                print (\"Cost after epoch %i: %f\" % (epoch, epoch_cost))\r\n",
        "            if print_cost == True and epoch % 5 == 0:\r\n",
        "                costs.append(epoch_cost)\r\n",
        "                \r\n",
        "        # plot the cost\r\n",
        "        plt.plot(np.squeeze(costs))\r\n",
        "        plt.ylabel('cost')\r\n",
        "        plt.xlabel('iterations (per tens)')\r\n",
        "        plt.title(\"Learning rate =\" + str(learning_rate))\r\n",
        "        plt.show()\r\n",
        "\r\n",
        "        # lets save the parameters in a variable\r\n",
        "        parameters = sess.run(parameters)\r\n",
        "        print(\"Parameters have been trained!\")\r\n",
        "\r\n",
        "        # Calculate the correct predictions\r\n",
        "        correct_prediction = tf.equal(tf.argmax(Z3), tf.argmax(Y))\r\n",
        "\r\n",
        "        # Calculate accuracy on the test set\r\n",
        "        accuracy = tf.reduce_mean(tf.cast(correct_prediction, \"float\"))\r\n",
        "\r\n",
        "        print(\"Train Accuracy:\", accuracy.eval({X: X_train, Y: Y_train}))\r\n",
        "        print(\"Test Accuracy:\", accuracy.eval({X: X_test, Y: Y_test}))\r\n",
        "        \r\n",
        "        return parameters"
      ],
      "execution_count": 151,
      "outputs": []
    },
    {
      "cell_type": "code",
      "metadata": {
        "colab": {
          "base_uri": "https://localhost:8080/",
          "height": 601
        },
        "id": "rt0BAK37Efbd",
        "outputId": "eca20b93-f9ae-4f1d-cf93-00ee40906be5"
      },
      "source": [
        "parameters = model(train_set_x_flatten, train_set_y,test_set_x_flatten,test_set_y)\r\n"
      ],
      "execution_count": 152,
      "outputs": [
        {
          "output_type": "stream",
          "text": [
            "Cost after epoch 0: 0.900098\n",
            "Cost after epoch 100: 0.027842\n",
            "Cost after epoch 200: 0.006596\n",
            "Cost after epoch 300: 0.002732\n",
            "Cost after epoch 400: 0.001391\n",
            "Cost after epoch 500: 0.000739\n",
            "Cost after epoch 600: 0.000451\n",
            "Cost after epoch 700: 0.000268\n",
            "Cost after epoch 800: 0.000173\n",
            "Cost after epoch 900: 0.000108\n",
            "Cost after epoch 1000: 0.000066\n",
            "Cost after epoch 1100: 0.000044\n",
            "Cost after epoch 1200: 0.000029\n",
            "Cost after epoch 1300: 0.000020\n",
            "Cost after epoch 1400: 0.000012\n"
          ],
          "name": "stdout"
        },
        {
          "output_type": "display_data",
          "data": {
            "image/png": "[encoded data removed]",
            "text/plain": [
              "<Figure size 432x288 with 1 Axes>"
            ]
          },
          "metadata": {
            "tags": [],
            "needs_background": "light"
          }
        },
        {
          "output_type": "stream",
          "text": [
            "Parameters have been trained!\n",
            "Train Accuracy: 1.0\n",
            "Test Accuracy: 0.9756098\n"
          ],
          "name": "stdout"
        }
      ]
    },
    {
      "cell_type": "code",
      "metadata": {
        "colab": {
          "base_uri": "https://localhost:8080/",
          "height": 319
        },
        "id": "4vRX8oX8ODwn",
        "outputId": "44bc0274-3f4b-4813-d757-e00f4c4d13f4"
      },
      "source": [
        "import scipy\r\n",
        "from PIL import Image\r\n",
        "from scipy import ndimage\r\n",
        "\r\n",
        "path = \"/content/drive/MyDrive/images/augmented_image_103.jpg\"\r\n",
        "\r\n",
        "image=Image.open(path)\r\n",
        "\r\n",
        "image = image.resize((64, 64))\r\n",
        "\r\n",
        "image =np.array( image)\r\n",
        "print (image.shape)\r\n",
        "\r\n",
        "my_image= image.reshape ((1, 64 * 64 * 3)).T\r\n",
        "print (my_image.shape)\r\n",
        "\r\n",
        "my_image_prediction = predict(my_image, parameters)\r\n",
        "\r\n",
        "plt.imshow(image)\r\n",
        "print(\"Your algorithm predicts: y = \" + str(np.squeeze(my_image_prediction)))"
      ],
      "execution_count": 177,
      "outputs": [
        {
          "output_type": "stream",
          "text": [
            "(64, 64, 3)\n",
            "(12288, 1)\n",
            "Your algorithm predicts: y = 0\n"
          ],
          "name": "stdout"
        },
        {
          "output_type": "display_data",
          "data": {
            "image/png": "[encoded data removed]",
            "text/plain": [
              "<Figure size 432x288 with 1 Axes>"
            ]
          },
          "metadata": {
            "tags": [],
            "needs_background": "light"
          }
        }
      ]
    }
  ]
}